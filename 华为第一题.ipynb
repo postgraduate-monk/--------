{
 "cells": [
  {
   "cell_type": "code",
   "execution_count": null,
   "metadata": {},
   "outputs": [],
   "source": [
    "nums = int(input())\n",
    "result = []\n",
    "arr1 = input()\n",
    "arr2 = input()\n",
    "L1,L2=[],[]\n",
    "L1.append([int(i) for i in arr1.split(',')])\n",
    "L2 = L1\n",
    "L2.append([int(i) for i in arr2.split(',')])\n",
    "        \n",
    "for i in range(0,len(L2)):\n",
    "    if len(L2[i])> 3:\n",
    "        for j in L2[i][0:3]:\n",
    "            result.append(j)\n",
    "        L2[i]= L2[i][3:]\n",
    "            \n",
    "    else:\n",
    "        for j in L2[i]:\n",
    "            result.append(j)\n",
    "        del L2[i]\n",
    "                \n",
    "for i in range(len(result)):\n",
    "    if i != len(result)-1:\n",
    "        print(result[i],',',end='')\n",
    "    else:\n",
    "          print(result[i])\n",
    "    \n",
    "                    "
   ]
  },
  {
   "cell_type": "markdown",
   "metadata": {},
   "source": [
    "# 我这个渣渣"
   ]
  },
  {
   "cell_type": "code",
   "execution_count": null,
   "metadata": {
    "scrolled": true
   },
   "outputs": [],
   "source": [
    "nums = int(input())\n",
    "result = []\n",
    "arr1 = input()\n",
    "arr2 = input() \n",
    "L1,L2=[],[]\n",
    "L1.append([int(i) for i in arr1.split(',')])\n",
    "L2 = L1\n",
    "L2.append([int(i) for i in arr2.split(',')])\n",
    "        \n",
    "while True:\n",
    "    for i in range(0,len(L2)):\n",
    "        if len(L2[i])>= 3:\n",
    "            for j in L2[i][0:3]:\n",
    "                result.append(j)\n",
    "            L2[i]= L2[i][3:]\n",
    "        else:\n",
    "            for j in L2[i]:\n",
    "                result.append(j)\n",
    "            del L2[i]\n",
    "\n",
    "    if len(L2) == 0:\n",
    "        break\n",
    "                \n",
    "for i in range(len(result)):\n",
    "    if i != len(result)-1:\n",
    "        print(result[i],',',end='')\n",
    "    else:\n",
    "        print(result[i])\n",
    "                \n",
    "        "
   ]
  },
  {
   "cell_type": "code",
   "execution_count": null,
   "metadata": {},
   "outputs": [],
   "source": [
    "nums = int(input())\n",
    "result = []\n",
    "arr1 = input()\n",
    "arr2 = input()\n",
    "L1,L2=[],[]\n",
    "L1.append([int(i) for i in arr1.split(',')])\n",
    "L2 = L1\n",
    "L2.append([int(i) for i in arr2.split(',')])\n",
    "L2"
   ]
  },
  {
   "cell_type": "code",
   "execution_count": null,
   "metadata": {},
   "outputs": [],
   "source": [
    "l2=[[2, 5, 6, 7, 9, 5, 7], [1, 7, 4, 3, 4]]\n",
    "len(l2)"
   ]
  },
  {
   "cell_type": "code",
   "execution_count": null,
   "metadata": {},
   "outputs": [],
   "source": [
    "import sys\n",
    "nums = int(input())\n",
    "result = []\n",
    "L2=[]\n",
    "for line in sys.stdin:\n",
    "    a=line.split(',')\n",
    "    L2.append(list(map(int,a)))\n",
    "lens = sum([len(i) for i in L2])\n",
    "j=0\n",
    "while len(result)<lens:\n",
    "    j+=n\n",
    "    for i,line in enumerate(L2):\n",
    "        if line[0] != '' and len(line[j-n:j]) < n:\n",
    "            result.extend(line[j-n:])\n",
    "        elif len(line[j-n:j])>=n:\n",
    "            result.extend(line[j-n:j])\n",
    "        else:\n",
    "            continue\n",
    "out = result.pop()\n",
    "for i in result:\n",
    "    print(i,end=',')\n",
    "print(out)"
   ]
  },
  {
   "cell_type": "code",
   "execution_count": null,
   "metadata": {},
   "outputs": [],
   "source": [
    "n = int(input())\n",
    "import sys\n",
    "list_n=[]\n",
    "result=[]\n",
    "for line in sys.stdin:\n",
    "    b = line.split(',')\n",
    "    list_n.append(list(map(int,b)))\n",
    "    if line[0] is '\\n':\n",
    "        break\n",
    "#list_n=[['1','2','3','4'],['12','13','14'],['1','4','5','6','7']]\n",
    "#list_n=[[1,2,3,4],[12,13,14],[1,4,5,6,7]]\n",
    "sum1=sum([len(i) for i in list_n])\n",
    "i = 0\n",
    "while len(result)<sum1:\n",
    "    i +=n\n",
    "    for k,line in enumerate(list_n):\n",
    "        if line[0] is not None and len(line[i-n:i])<n:\n",
    "            result.extend(line[i-n:])\n",
    "        elif len(line[i-n:i])>=n:\n",
    "            result.extend(line[i-n:i])\n",
    "        else:\n",
    "            continue\n",
    "#x = [int(i) for i in result]\n",
    "#print()\n",
    "m = result.pop()\n",
    "for i in result:\n",
    "    print(i, end = ',')\n",
    "print(m)"
   ]
  },
  {
   "cell_type": "markdown",
   "metadata": {},
   "source": [
    "# 磊哥的代码"
   ]
  },
  {
   "cell_type": "code",
   "execution_count": null,
   "metadata": {},
   "outputs": [],
   "source": [
    "while True:\n",
    "    try:\n",
    "        len_=int(input())\n",
    "        arr=[]\n",
    "        out_list=[]\n",
    "        while True:\n",
    "            s=input()\n",
    "            if s!='':\n",
    "                arr.append([int(i) for i in s.split(',')])\n",
    "            else:\n",
    "                break\n",
    "        while True:\n",
    "            for i in range(0,len(arr)):\n",
    "                if len(arr[i])>=3:\n",
    "                    for j in arr[i][0:3]:\n",
    "                        out_list.append(j)\n",
    "                    arr[i]=arr[i][3:]\n",
    "                else:\n",
    "                    for j in arr[i]:\n",
    "                        out_list.append(j)\n",
    "                    del arr[i]\n",
    "            if len(arr) == 0:\n",
    "                break\n",
    "        for i in range(len(out_list)):\n",
    "            if i !=len(out_list)-1:\n",
    "                print(out_list[i],',',end='')\n",
    "            else:\n",
    "                print(out_list[i])\n",
    "    except:\n",
    "        break"
   ]
  },
  {
   "cell_type": "markdown",
   "metadata": {},
   "source": [
    "# 阳哥的"
   ]
  },
  {
   "cell_type": "code",
   "execution_count": null,
   "metadata": {},
   "outputs": [],
   "source": [
    "n = int(input())\n",
    "import sys\n",
    "list_n=[]\n",
    "result=[]\n",
    "for line in sys.stdin:\n",
    "    b = line.split(',')\n",
    "    list_n.append(list(map(int,b)))\n",
    "    if line[0] is '\\n':\n",
    "        break\n",
    "#list_n=[['1','2','3','4'],['12','13','14'],['1','4','5','6','7']]\n",
    "#list_n=[[1,2,3,4],[12,13,14],[1,4,5,6,7]]\n",
    "sum1=sum([len(i) for i in list_n])\n",
    "i = 0\n",
    "while len(result)<sum1:\n",
    "    i +=n\n",
    "    for k,line in enumerate(list_n):\n",
    "        if line[0] is not None and len(line[i-n:i])<n:\n",
    "            result.extend(line[i-n:])\n",
    "        elif len(line[i-n:i])>=n:\n",
    "            result.extend(line[i-n:i])\n",
    "        else:\n",
    "            continue\n",
    "#x = [int(i) for i in result]\n",
    "#print()\n",
    "m = result.pop()\n",
    "for i in result:\n",
    "    print(i, end = ',')\n",
    "print(m)"
   ]
  },
  {
   "cell_type": "code",
   "execution_count": null,
   "metadata": {},
   "outputs": [],
   "source": [
    "3\\n\n",
    "4,5,6,4,5\\n\n",
    "1,2,3,4,5,6\\n"
   ]
  },
  {
   "cell_type": "code",
   "execution_count": null,
   "metadata": {},
   "outputs": [],
   "source": [
    "cha = {'a':1,'b':2}\n",
    "n=input()\n",
    "if n in cha:\n",
    "    out=cha[n]\n",
    "    print(out)\n",
    "else:\n",
    "    print(sorry)"
   ]
  },
  {
   "cell_type": "code",
   "execution_count": 3,
   "metadata": {},
   "outputs": [
    {
     "name": "stdout",
     "output_type": "stream",
     "text": [
      "15 1\n",
      "9\n"
     ]
    }
   ],
   "source": [
    "import math\n",
    "\n",
    "num = input().split()\n",
    "## 输入N、K\n",
    "N, K = int(num[0]), int(num[1])\n",
    "# i是执行的步数，j是拆分的次数\n",
    "i = 0\n",
    "j = 1\n",
    "while j <= K:\n",
    "\tx = math.ceil(N / 2)\n",
    "\tN = x\n",
    "\ti += 1\n",
    "\tj = 2 ** (i + 1) - 1\n",
    "\n",
    "result = x + i\n",
    "print(result)"
   ]
  },
  {
   "cell_type": "code",
   "execution_count": null,
   "metadata": {},
   "outputs": [],
   "source": [
    "num = input()"
   ]
  },
  {
   "cell_type": "code",
   "execution_count": null,
   "metadata": {},
   "outputs": [],
   "source": [
    "num"
   ]
  },
  {
   "cell_type": "code",
   "execution_count": null,
   "metadata": {},
   "outputs": [],
   "source": [
    "len(num)"
   ]
  },
  {
   "cell_type": "code",
   "execution_count": null,
   "metadata": {},
   "outputs": [],
   "source": [
    "num = input().split()\n",
    "## 输入N、K\n",
    "N, K = int(num[0]), int(num[1])"
   ]
  },
  {
   "cell_type": "code",
   "execution_count": null,
   "metadata": {},
   "outputs": [],
   "source": [
    "N,k"
   ]
  },
  {
   "cell_type": "code",
   "execution_count": null,
   "metadata": {},
   "outputs": [],
   "source": [
    "N,K"
   ]
  },
  {
   "cell_type": "code",
   "execution_count": null,
   "metadata": {},
   "outputs": [],
   "source": [
    "type(N)"
   ]
  },
  {
   "cell_type": "code",
   "execution_count": null,
   "metadata": {},
   "outputs": [],
   "source": [
    "import math\n",
    "\n",
    "num = input().split()\n",
    "## 输入N、K\n",
    "N, K = int(num[0]), int(num[1])\n",
    "# i是执行的总步数，j是拆分的次数\n",
    "i = 0\n",
    "j = 2 ** (i+1) - 1\n",
    "while j <= K:\n",
    "\t\tx = math.ceil(N / 2)\n",
    "\t\tN = x\n",
    "\t\ti += 1\n",
    "\n",
    "result = x + i\n",
    "print(result)"
   ]
  }
 ],
 "metadata": {
  "kernelspec": {
   "display_name": "Python 3",
   "language": "python",
   "name": "python3"
  },
  "language_info": {
   "codemirror_mode": {
    "name": "ipython",
    "version": 3
   },
   "file_extension": ".py",
   "mimetype": "text/x-python",
   "name": "python",
   "nbconvert_exporter": "python",
   "pygments_lexer": "ipython3",
   "version": "3.7.0"
  }
 },
 "nbformat": 4,
 "nbformat_minor": 2
}
